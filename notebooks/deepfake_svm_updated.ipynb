{
 "cells": [
  {
   "cell_type": "markdown",
   "metadata": {},
   "source": [
    "# Deepfake Audio Detection using SVM\n",
    "\n",
    "This notebook implements a Support Vector Machine (SVM) model for detecting Urdu deepfake audio."
   ]
  },
  {
   "cell_type": "code",
   "execution_count": null,
   "metadata": {},
   "outputs": [],
   "source": [
    "import numpy as np\n",
    "import pandas as pd\n",
    "import os\n",
    "import librosa\n",
    "from sklearn.svm import SVC\n",
    "from sklearn.model_selection import train_test_split\n",
    "from sklearn.metrics import classification_report, accuracy_score, precision_recall_fscore_support, roc_auc_score, roc_curve\n",
    "from sklearn.preprocessing import StandardScaler\n",
    "import matplotlib.pyplot as plt\n",
    "import joblib\n",
    "import sys\n",
    "sys.path.append('..')\n",
    "from utils.audio_features import extract_features\n",
    "\n",
    "# Try to import the datasets library, but provide a fallback if it's not available\n",
    "try:\n",
    "    from datasets import load_dataset\n",
    "    DATASETS_AVAILABLE = True\n",
    "except ImportError:\n",
    "    print(\"Warning: 'datasets' library not available. Will use local data if provided.\")\n",
    "    DATASETS_AVAILABLE = False"
   ]
  },
  {
   "cell_type": "markdown",
   "metadata": {},
   "source": [
    "## Load and Preprocess Data\n",
    "\n",
    "We'll load the Urdu deepfake detection dataset and extract features from the audio files."
   ]
  },
  {
   "cell_type": "code",
   "execution_count": null,
   "metadata": {},
   "outputs": [],
   "source": [
    "# Function to extract features from audio files\n",
    "def extract_audio_features(audio_path, sr=22050, duration=5):\n",
    "    \"\"\"Extract audio features from an audio file.\"\"\"\n",
    "    try:\n",
    "        # Load audio file with a fixed duration\n",
    "        y, sr = librosa.load(audio_path, sr=sr, duration=duration)\n",
    "        \n",
    "        # Extract MFCCs (Mel-frequency cepstral coefficients)\n",
    "        mfccs = librosa.feature.mfcc(y=y, sr=sr, n_mfcc=13)\n",
    "        mfcc_mean = np.mean(mfccs, axis=1)\n",
    "        mfcc_std = np.std(mfccs, axis=1)\n",
    "        \n",
    "        # Extract spectral features\n",
    "        spectral_centroid = librosa.feature.spectral_centroid(y=y, sr=sr)[0]\n",
    "        spectral_bandwidth = librosa.feature.spectral_bandwidth(y=y, sr=sr)[0]\n",
    "        spectral_rolloff = librosa.feature.spectral_rolloff(y=y, sr=sr)[0]\n",
    "        \n",
    "        # Extract temporal features\n",
    "        zero_crossing_rate = librosa.feature.zero_crossing_rate(y)[0]\n",
    "        \n",
    "        # Combine all features\n",
    "        features = np.concatenate([\n",
    "            mfcc_mean, mfcc_std,\n",
    "            [np.mean(spectral_centroid), np.std(spectral_centroid)],\n",
    "            [np.mean(spectral_bandwidth), np.std(spectral_bandwidth)],\n",
    "            [np.mean(spectral_rolloff), np.std(spectral_rolloff)],\n",
    "            [np.mean(zero_crossing_rate), np.std(zero_crossing_rate)]\n",
    "        ])\n",
    "        \n",
    "        return features\n",
    "    except Exception as e:\n",
    "        print(f\"Error extracting features from {audio_path}: {e}\")\n",
    "        return None"
   ]
  },
  {
   "cell_type": "code",
   "execution_count": null,
   "metadata": {},
   "outputs": [],
   "source": [
    "# Load the dataset\n",
    "if DATASETS_AVAILABLE:\n",
    "    try:\n",
    "        print(\"Loading the Urdu deepfake detection dataset...\")\n",
    "        ds = load_dataset(\"CSALT/deepfake_detection_dataset_urdu\")\n",
    "        print(f\"Dataset loaded successfully. Available splits: {ds.keys()}\")\n",
    "        \n",
    "        # Process the dataset\n",
    "        features = []\n",
    "        labels = []\n",
    "        \n",
    "        # Process training data\n",
    "        for item in ds['train']:\n",
    "            audio_path = item['audio_path']\n",
    "            label = 1 if item['label'] == 'deepfake' else 0  # Convert to binary labels\n",
    "            \n",
    "            # Extract features\n",
    "            audio_features = extract_audio_features(audio_path)\n",
    "            if audio_features is not None:\n",
    "                features.append(audio_features)\n",
    "                labels.append(label)\n",
    "        \n",
    "        # Convert to numpy arrays\n",
    "        X = np.array(features)\n",
    "        y = np.array(labels)\n",
    "        \n",
    "        print(f\"Processed {len(X)} audio files with {X.shape[1]} features per file.\")\n",
    "        print(f\"Class distribution: {np.bincount(y)}\")\n",
    "        \n",
    "    except Exception as e:\n",
    "        print(f\"Error loading dataset: {e}\")\n",
    "        print(\"Falling back to local data if available...\")\n",
    "        DATASETS_AVAILABLE = False\n",
    "\n",
    "# Fallback to local data if datasets library is not available or loading failed\n",
    "if not DATASETS_AVAILABLE:\n",
    "    print(\"Using local data...\")\n",
    "    # Here you would load local audio files and extract features\n",
    "    # For demonstration, we'll create some dummy data\n",
    "    X = np.random.rand(100, 32)  # 100 samples, 32 features\n",
    "    y = np.random.randint(0, 2, 100)  # Binary labels (0: real, 1: deepfake)\n",
    "    print(f\"Created dummy data with {X.shape[0]} samples and {X.shape[1]} features.\")\n",
    "    print(f\"Class distribution: {np.bincount(y)}\")"
   ]
  },
  {
   "cell_type": "markdown",
   "metadata": {},
   "source": [
    "## Preprocess and Split Data"
   ]
  },
  {
   "cell_type": "code",
   "execution_count": null,
   "metadata": {},
   "outputs": [],
   "source": [
    "# Standardize features\n",
    "scaler = StandardScaler()\n",
    "X_scaled = scaler.fit_transform(X)\n",
    "\n",
    "# Split data into train and test sets\n",
    "X_train, X_test, y_train, y_test = train_test_split(X_scaled, y, test_size=0.2, random_state=42, stratify=y)\n",
    "\n",
    "print(f\"Training set: {X_train.shape[0]} samples\")\n",
    "print(f\"Test set: {X_test.shape[0]} samples\")"
   ]
  },
  {
   "cell_type": "markdown",
   "metadata": {},
   "source": [
    "## Train SVM Model"
   ]
  },
  {
   "cell_type": "code",
   "execution_count": null,
   "metadata": {},
   "outputs": [],
   "source": [
    "# Train SVM model\n",
    "print(\"Training SVM model...\")\n",
    "svm_model = SVC(kernel='rbf', probability=True, C=1.0, gamma='scale')\n",
    "svm_model.fit(X_train, y_train)\n",
    "print(\"Model training completed.\")"
   ]
  },
  {
   "cell_type": "markdown",
   "metadata": {},
   "source": [
    "## Evaluate Model"
   ]
  },
  {
   "cell_type": "code",
   "execution_count": null,
   "metadata": {},
   "outputs": [],
   "source": [
    "# Evaluate model\n",
    "y_pred = svm_model.predict(X_test)\n",
    "y_prob = svm_model.predict_proba(X_test)[:, 1]  # Probability of the positive class\n",
    "\n",
    "# Calculate metrics\n",
    "accuracy = accuracy_score(y_test, y_pred)\n",
    "precision, recall, f1, _ = precision_recall_fscore_support(y_test, y_pred, average='binary')\n",
    "auc_roc = roc_auc_score(y_test, y_prob)\n",
    "\n",
    "# Print classification report\n",
    "print(\"Classification Report:\")\n",
    "print(classification_report(y_test, y_pred, target_names=['Bonafide', 'Deepfake']))\n",
    "\n",
    "# Print summary metrics\n",
    "print(f\"Accuracy: {accuracy:.4f}\")\n",
    "print(f\"Precision: {precision:.4f}\")\n",
    "print(f\"Recall: {recall:.4f}\")\n",
    "print(f\"F1-Score: {f1:.4f}\")\n",
    "print(f\"AUC-ROC: {auc_roc:.4f}\")"
   ]
  },
  {
   "cell_type": "markdown",
   "metadata": {},
   "source": [
    "## Visualize ROC Curve"
   ]
  },
  {
   "cell_type": "code",
   "execution_count": null,
   "metadata": {},
   "outputs": [],
   "source": [
    "# Plot ROC curve\n",
    "fpr, tpr, _ = roc_curve(y_test, y_prob)\n",
    "\n",
    "plt.figure(figsize=(8, 6))\n",
    "plt.plot(fpr, tpr, label=f'SVM (AUC = {auc_roc:.4f})')\n",
    "plt.plot([0, 1], [0, 1], 'k--', label='Random')\n",
    "plt.xlabel('False Positive Rate')\n",
    "plt.ylabel('True Positive Rate')\n",
    "plt.title('ROC Curve for Deepfake Detection')\n",
    "plt.legend()\n",
    "plt.grid(True, alpha=0.3)\n",
    "plt.show()"
   ]
  },
  {
   "cell_type": "markdown",
   "metadata": {},
   "source": [
    "## Save Model"
   ]
  },
  {
   "cell_type": "code",
   "execution_count": null,
   "metadata": {},
   "outputs": [],
   "source": [
    "# Save model and scaler\n",
    "model_path = '../models/svm_deepfake.pkl'\n",
    "scaler_path = '../models/svm_deepfake_scaler.pkl'\n",
    "\n",
    "joblib.dump(svm_model, model_path)\n",
    "joblib.dump(scaler, scaler_path)\n",
    "\n",
    "print(f\"Model saved to {model_path}\")\n",
    "print(f\"Scaler saved to {scaler_path}\")"
   ]
  }
 ],
 "metadata": {
  "kernelspec": {
   "display_name": "Python 3",
   "language": "python",
   "name": "python3"
  },
  "language_info": {
   "codemirror_mode": {
    "name": "ipython",
    "version": 3
   },
   "file_extension": ".py",
   "mimetype": "text/x-python",
   "name": "python",
   "nbconvert_exporter": "python",
   "pygments_lexer": "ipython3",
   "version": "3.10.13"
  }
 },
 "nbformat": 4,
 "nbformat_minor": 4
}

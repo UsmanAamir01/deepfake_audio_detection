{
 "cells": [
  {
   "cell_type": "markdown",
   "metadata": {},
   "source": [
    "# Deepfake Audio Detection using Perceptron\n",
    "\n",
    "This notebook implements a single-layer Perceptron model for detecting Urdu deepfake audio."
   ]
  },
  {
   "cell_type": "code",
   "execution_count": null,
   "metadata": {},
   "outputs": [],
   "source": [
    "import numpy as np\n",
    "import pandas as pd\n",
    "import os\n",
    "import librosa\n",
    "from sklearn.linear_model import Perceptron\n",
    "from sklearn.model_selection import train_test_split\n",
    "from sklearn.metrics import classification_report, accuracy_score, precision_recall_fscore_support, roc_auc_score, roc_curve\n",
    "from sklearn.preprocessing import StandardScaler\n",
    "import matplotlib.pyplot as plt\n",
    "import joblib\n",
    "import sys\n",
    "sys.path.append('..')\n",
    "from utils.audio_features import extract_features\n",
    "\n",
    "# Try to import the datasets library, but provide a fallback if it's not available\n",
    "try:\n",
    "    from datasets import load_dataset\n",
    "    DATASETS_AVAILABLE = True\n",
    "except ImportError:\n",
    "    print(\"Warning: 'datasets' library not available. Will use local data if provided.\")\n",
    "    DATASETS_AVAILABLE = False"
   ]
  },
  {
   "cell_type": "markdown",
   "metadata": {},
   "source": [
    "## Load and Preprocess Data\n",
    "\n",
    "We'll load the Urdu deepfake detection dataset and extract features from the audio files."
   ]
  },
  {
   "cell_type": "code",
   "execution_count": null,
   "metadata": {},
   "outputs": [],
   "source": [
    "# Function to extract features from audio files\n",
    "def extract_audio_features(audio_path, sr=22050, duration=5):\n",
    "    \"\"\"Extract audio features from an audio file.\"\"\"\n",
    "    try:\n",
    "        # Load audio file with a fixed duration\n",
    "        y, sr = librosa.load(audio_path, sr=sr, duration=duration)\n",
    "        \n",
    "        # Extract MFCCs (Mel-frequency cepstral coefficients)\n",
    "        mfccs = librosa.feature.mfcc(y=y, sr=sr, n_mfcc=13)\n",
    "        mfcc_mean = np.mean(mfccs, axis=1)\n",
    "        mfcc_std = np.std(mfccs, axis=1)\n",
    "        \n",
    "        # Extract spectral features\n",
    "        spectral_centroid = librosa.feature.spectral_centroid(y=y, sr=sr)[0]\n",
    "        spectral_bandwidth = librosa.feature.spectral_bandwidth(y=y, sr=sr)[0]\n",
    "        spectral_rolloff = librosa.feature.spectral_rolloff(y=y, sr=sr)[0]\n",
    "        \n",
    "        # Extract temporal features\n",
    "        zero_crossing_rate = librosa.feature.zero_crossing_rate(y)[0]\n",
    "        \n",
    "        # Combine all features\n",
    "        features = np.concatenate([\n",
    "            mfcc_mean, mfcc_std,\n",
    "            [np.mean(spectral_centroid), np.std(spectral_centroid)],\n",
    "            [np.mean(spectral_bandwidth), np.std(spectral_bandwidth)],\n",
    "            [np.mean(spectral_rolloff), np.std(spectral_rolloff)],\n",
    "            [np.mean(zero_crossing_rate), np.std(zero_crossing_rate)]\n",
    "        ])\n",
    "        \n",
    "        return features\n",
    "    except Exception as e:\n",
    "        print(f\"Error extracting features from {audio_path}: {e}\")\n",
    "        return None"
   ]
  },
  {
   "cell_type": "code",
   "execution_count": null,
   "metadata": {},
   "outputs": [],
   "source": [
    "# Load the dataset\n",
    "if DATASETS_AVAILABLE:\n",
    "    try:\n",
    "        print(\"Loading the Urdu deepfake detection dataset...\")\n",
    "        ds = load_dataset(\"CSALT/deepfake_detection_dataset_urdu\")\n",
    "        print(f\"Dataset loaded successfully. Available splits: {ds.keys()}\")\n",
    "        \n",
    "        # Process the dataset\n",
    "        features = []\n",
    "        labels = []\n",
    "        \n",
    "        # Process training data\n",
    "        for item in ds['train']:\n",
    "            audio_path = item['audio_path']\n",
    "            label = 1 if item['label'] == 'deepfake' else 0  # Convert to binary labels\n",
    "            \n",
    "            # Extract features\n",
    "            audio_features = extract_audio_features(audio_path)\n",
    "            if audio_features is not None:\n",
    "                features.append(audio_features)\n",
    "                labels.append(label)\n",
    "        \n",
    "        # Convert to numpy arrays\n",
    "        X = np.array(features)\n",
    "        y = np.array(labels)\n",
    "        \n",
    "        print(f\"Processed {len(X)} audio files with {X.shape[1]} features per file.\")\n",
    "        print(f\"Class distribution: {np.bincount(y)}\")\n",
    "        \n",
    "    except Exception as e:\n",
    "        print(f\"Error loading dataset: {e}\")\n",
    "        print(\"Falling back to local data if available...\")\n",
    "        DATASETS_AVAILABLE = False\n",
    "\n",
    "# Fallback to local data if datasets library is not available or loading failed\n",
    "if not DATASETS_AVAILABLE:\n",
    "    print(\"Using local data...\")\n",
    "    # Here you would load local audio files and extract features\n",
    "    # For demonstration, we'll create some dummy data\n",
    "    X = np.random.rand(100, 32)  # 100 samples, 32 features\n",
    "    y = np.random.randint(0, 2, 100)  # Binary labels (0: real, 1: deepfake)\n",
    "    print(f\"Created dummy data with {X.shape[0]} samples and {X.shape[1]} features.\")\n",
    "    print(f\"Class distribution: {np.bincount(y)}\")"
   ]
  },
  {
   "cell_type": "markdown",
   "metadata": {},
   "source": [
    "## Preprocess and Split Data"
   ]
  },
  {
   "cell_type": "code",
   "execution_count": null,
   "metadata": {},
   "outputs": [],
   "source": [
    "# Standardize features\n",
    "scaler = StandardScaler()\n",
    "X_scaled = scaler.fit_transform(X)\n",
    "\n",
    "# Split data into train and test sets\n",
    "X_train, X_test, y_train, y_test = train_test_split(X_scaled, y, test_size=0.2, random_state=42, stratify=y)\n",
    "\n",
    "print(f\"Training set: {X_train.shape[0]} samples\")\n",
    "print(f\"Test set: {X_test.shape[0]} samples\")"
   ]
  },
  {
   "cell_type": "markdown",
   "metadata": {},
   "source": [
    "## Train Perceptron Model"
   ]
  },
  {
   "cell_type": "code",
   "execution_count": null,
   "metadata": {},
   "outputs": [],
   "source": [
    "# Train Perceptron model\n",
    "print(\"Training Perceptron model...\")\n",
    "perceptron_model = Perceptron(max_iter=1000, eta0=0.1, random_state=42)\n",
    "perceptron_model.fit(X_train, y_train)\n",
    "print(\"Model training completed.\")"
   ]
  },
  {
   "cell_type": "markdown",
   "metadata": {},
   "source": [
    "## Evaluate Model"
   ]
  },
  {
   "cell_type": "code",
   "execution_count": null,
   "metadata": {},
   "outputs": [],
   "source": [
    "# Evaluate model\n",
    "y_pred = perceptron_model.predict(X_test)\n",
    "\n",
    "# Calculate metrics\n",
    "accuracy = accuracy_score(y_test, y_pred)\n",
    "precision, recall, f1, _ = precision_recall_fscore_support(y_test, y_pred, average='binary')\n",
    "\n",
    "# Print classification report\n",
    "print(\"Classification Report:\")\n",
    "print(classification_report(y_test, y_pred, target_names=['Bonafide', 'Deepfake']))\n",
    "\n",
    "# Print summary metrics\n",
    "print(f\"Accuracy: {accuracy:.4f}\")\n",
    "print(f\"Precision: {precision:.4f}\")\n",
    "print(f\"Recall: {recall:.4f}\")\n",
    "print(f\"F1-Score: {f1:.4f}\")"
   ]
  },
  {
   "cell_type": "markdown",
   "metadata": {},
   "source": [
    "## Visualize Decision Boundary (2D Projection)"
   ]
  },
  {
   "cell_type": "code",
   "execution_count": null,
   "metadata": {},
   "outputs": [],
   "source": [
    "# Visualize decision boundary using PCA for dimensionality reduction\n",
    "from sklearn.decomposition import PCA\n",
    "\n",
    "# Reduce to 2 dimensions for visualization\n",
    "pca = PCA(n_components=2)\n",
    "X_pca = pca.fit_transform(X_scaled)\n",
    "\n",
    "# Split the PCA-transformed data\n",
    "X_train_pca, X_test_pca, y_train_pca, y_test_pca = train_test_split(\n",
    "    X_pca, y, test_size=0.2, random_state=42, stratify=y\n",
    ")\n",
    "\n",
    "# Train a new perceptron on the 2D data\n",
    "perceptron_2d = Perceptron(max_iter=1000, eta0=0.1, random_state=42)\n",
    "perceptron_2d.fit(X_train_pca, y_train_pca)\n",
    "\n",
    "# Create a mesh grid to visualize the decision boundary\n",
    "h = 0.02  # Step size in the mesh\n",
    "x_min, x_max = X_pca[:, 0].min() - 1, X_pca[:, 0].max() + 1\n",
    "y_min, y_max = X_pca[:, 1].min() - 1, X_pca[:, 1].max() + 1\n",
    "xx, yy = np.meshgrid(np.arange(x_min, x_max, h), np.arange(y_min, y_max, h))\n",
    "\n",
    "# Predict on the mesh grid\n",
    "Z = perceptron_2d.predict(np.c_[xx.ravel(), yy.ravel()])\n",
    "Z = Z.reshape(xx.shape)\n",
    "\n",
    "# Plot the decision boundary and the data points\n",
    "plt.figure(figsize=(10, 8))\n",
    "plt.contourf(xx, yy, Z, alpha=0.3, cmap=plt.cm.coolwarm)\n",
    "plt.scatter(X_test_pca[:, 0], X_test_pca[:, 1], c=y_test_pca, cmap=plt.cm.coolwarm, edgecolors='k')\n",
    "plt.xlabel('Principal Component 1')\n",
    "plt.ylabel('Principal Component 2')\n",
    "plt.title('Perceptron Decision Boundary (PCA Projection)')\n",
    "plt.colorbar()\n",
    "plt.show()\n",
    "\n",
    "# Calculate accuracy on the 2D projection\n",
    "y_pred_pca = perceptron_2d.predict(X_test_pca)\n",
    "accuracy_pca = accuracy_score(y_test_pca, y_pred_pca)\n",
    "print(f\"Accuracy on 2D PCA projection: {accuracy_pca:.4f}\")"
   ]
  },
  {
   "cell_type": "markdown",
   "metadata": {},
   "source": [
    "## Save Model"
   ]
  },
  {
   "cell_type": "code",
   "execution_count": null,
   "metadata": {},
   "outputs": [],
   "source": [
    "# Save model and scaler\n",
    "model_path = '../models/perceptron_deepfake.pkl'\n",
    "scaler_path = '../models/perceptron_deepfake_scaler.pkl'\n",
    "\n",
    "joblib.dump(perceptron_model, model_path)\n",
    "joblib.dump(scaler, scaler_path)\n",
    "\n",
    "print(f\"Model saved to {model_path}\")\n",
    "print(f\"Scaler saved to {scaler_path}\")"
   ]
  }
 ],
 "metadata": {
  "kernelspec": {
   "display_name": "Python 3",
   "language": "python",
   "name": "python3"
  },
  "language_info": {
   "codemirror_mode": {
    "name": "ipython",
    "version": 3
   },
   "file_extension": ".py",
   "mimetype": "text/x-python",
   "name": "python",
   "nbconvert_exporter": "python",
   "pygments_lexer": "ipython3",
   "version": "3.10.13"
  }
 },
 "nbformat": 4,
 "nbformat_minor": 4
}

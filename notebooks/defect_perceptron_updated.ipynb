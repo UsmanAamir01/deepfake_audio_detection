{
 "cells": [
  {
   "cell_type": "markdown",
   "metadata": {},
   "source": [
    "# Multi-Label Defect Prediction using Perceptron\n",
    "\n",
    "This notebook implements a Perceptron model for multi-label defect prediction, including online learning mode."
   ]
  },
  {
   "cell_type": "code",
   "execution_count": null,
   "metadata": {},
   "outputs": [],
   "source": [
    "import numpy as np\n",
    "import pandas as pd\n",
    "import matplotlib.pyplot as plt\n",
    "import seaborn as sns\n",
    "from sklearn.linear_model import Perceptron\n",
    "from sklearn.multiclass import OneVsRestClassifier\n",
    "from sklearn.model_selection import train_test_split\n",
    "from sklearn.preprocessing import StandardScaler, MultiLabelBinarizer\n",
    "from sklearn.metrics import accuracy_score, hamming_loss, classification_report, f1_score, precision_score, recall_score\n",
    "import joblib\n",
    "import sys\n",
    "sys.path.append('..')\n",
    "from utils.defect_utils import preprocess_data, get_defect_types"
   ]
  },
  {
   "cell_type": "markdown",
   "metadata": {},
   "source": [
    "## Load and Explore Dataset"
   ]
  },
  {
   "cell_type": "code",
   "execution_count": null,
   "metadata": {},
   "outputs": [],
   "source": [
    "# Load the dataset\n",
    "df = pd.read_csv('../data/dataset.csv')\n",
    "\n",
    "# Display the first few rows\n",
    "print(\"Dataset shape:\", df.shape)\n",
    "df.head()"
   ]
  },
  {
   "cell_type": "code",
   "execution_count": null,
   "metadata": {},
   "outputs": [],
   "source": [
    "# Check for missing values\n",
    "missing_values = df.isnull().sum()\n",
    "print(\"Missing values:\")\n",
    "print(missing_values[missing_values > 0] if any(missing_values > 0) else \"No missing values\")"
   ]
  },
  {
   "cell_type": "code",
   "execution_count": null,
   "metadata": {},
   "outputs": [],
   "source": [
    "# Analyze the defect labels\n",
    "defect_counts = {}\n",
    "for defects in df['defects']:\n",
    "    for defect in defects.split(','):\n",
    "        defect_counts[defect] = defect_counts.get(defect, 0) + 1\n",
    "\n",
    "# Convert to DataFrame for visualization\n",
    "defect_df = pd.DataFrame(list(defect_counts.items()), columns=['Defect', 'Count'])\n",
    "defect_df = defect_df.sort_values('Count', ascending=False)\n",
    "\n",
    "# Plot defect distribution\n",
    "plt.figure(figsize=(12, 6))\n",
    "sns.barplot(x='Defect', y='Count', data=defect_df)\n",
    "plt.title('Defect Distribution')\n",
    "plt.xticks(rotation=45)\n",
    "plt.tight_layout()\n",
    "plt.show()\n",
    "\n",
    "# Check for class imbalance\n",
    "print(\"Defect distribution:\")\n",
    "for defect, count in defect_counts.items():\n",
    "    print(f\"{defect}: {count} ({count/len(df):.2%})\")"
   ]
  },
  {
   "cell_type": "markdown",
   "metadata": {},
   "source": [
    "## Preprocess Data"
   ]
  },
  {
   "cell_type": "code",
   "execution_count": null,
   "metadata": {},
   "outputs": [],
   "source": [
    "# Preprocess the data\n",
    "# Extract features (all columns except 'defects')\n",
    "feature_cols = [col for col in df.columns if col != 'defects']\n",
    "X = df[feature_cols].values\n",
    "\n",
    "# Process labels\n",
    "defects = df['defects'].str.split(',').tolist()\n",
    "\n",
    "# Convert to multi-hot encoding\n",
    "mlb = MultiLabelBinarizer()\n",
    "y = mlb.fit_transform(defects)\n",
    "\n",
    "# Get the defect class names\n",
    "defect_classes = mlb.classes_\n",
    "print(f\"Defect classes: {defect_classes}\")\n",
    "print(f\"Number of classes: {len(defect_classes)}\")\n",
    "\n",
    "# Standardize features\n",
    "scaler = StandardScaler()\n",
    "X_scaled = scaler.fit_transform(X)\n",
    "\n",
    "print(f\"Feature matrix shape: {X_scaled.shape}\")\n",
    "print(f\"Label matrix shape: {y.shape}\")"
   ]
  },
  {
   "cell_type": "markdown",
   "metadata": {},
   "source": [
    "## Split Data"
   ]
  },
  {
   "cell_type": "code",
   "execution_count": null,
   "metadata": {},
   "outputs": [],
   "source": [
    "# Split data into train, validation, and test sets\n",
    "X_train, X_temp, y_train, y_temp = train_test_split(X_scaled, y, test_size=0.3, random_state=42)\n",
    "X_val, X_test, y_val, y_test = train_test_split(X_temp, y_temp, test_size=0.5, random_state=42)\n",
    "\n",
    "print(f\"Training set: {X_train.shape[0]} samples\")\n",
    "print(f\"Validation set: {X_val.shape[0]} samples\")\n",
    "print(f\"Test set: {X_test.shape[0]} samples\")"
   ]
  },
  {
   "cell_type": "markdown",
   "metadata": {},
   "source": [
    "## Train Perceptron Model (Batch Learning)"
   ]
  },
  {
   "cell_type": "code",
   "execution_count": null,
   "metadata": {},
   "outputs": [],
   "source": [
    "# Define the Perceptron model with OneVsRestClassifier for multi-label classification\n",
    "base_perceptron = Perceptron(max_iter=1000, eta0=0.1, random_state=42)\n",
    "perceptron_model = OneVsRestClassifier(base_perceptron)\n",
    "\n",
    "# Train the model\n",
    "print(\"Training Perceptron model (batch learning)...\")\n",
    "perceptron_model.fit(X_train, y_train)\n",
    "print(\"Training completed.\")"
   ]
  },
  {
   "cell_type": "markdown",
   "metadata": {},
   "source": [
    "## Evaluate Batch Learning Model on Validation Set"
   ]
  },
  {
   "cell_type": "code",
   "execution_count": null,
   "metadata": {},
   "outputs": [],
   "source": [
    "# Predict on validation set\n",
    "y_val_pred = perceptron_model.predict(X_val)\n",
    "\n",
    "# Calculate metrics\n",
    "hamming = hamming_loss(y_val, y_val_pred)\n",
    "micro_f1 = f1_score(y_val, y_val_pred, average='micro')\n",
    "macro_f1 = f1_score(y_val, y_val_pred, average='macro')\n",
    "micro_precision = precision_score(y_val, y_val_pred, average='micro')\n",
    "macro_precision = precision_score(y_val, y_val_pred, average='macro')\n",
    "micro_recall = recall_score(y_val, y_val_pred, average='micro')\n",
    "macro_recall = recall_score(y_val, y_val_pred, average='macro')\n",
    "\n",
    "# Print metrics\n",
    "print(f\"Validation Metrics (Batch Learning):\")\n",
    "print(f\"Hamming Loss: {hamming:.4f}\")\n",
    "print(f\"Micro-F1 Score: {micro_f1:.4f}\")\n",
    "print(f\"Macro-F1 Score: {macro_f1:.4f}\")\n",
    "print(f\"Micro-Precision: {micro_precision:.4f}\")\n",
    "print(f\"Macro-Precision: {macro_precision:.4f}\")\n",
    "print(f\"Micro-Recall: {micro_recall:.4f}\")\n",
    "print(f\"Macro-Recall: {macro_recall:.4f}\")"
   ]
  },
  {
   "cell_type": "markdown",
   "metadata": {},
   "source": [
    "## Train Perceptron Model (Online Learning)\n",
    "\n",
    "In online learning, the model is updated after each sample."
   ]
  },
  {
   "cell_type": "code",
   "execution_count": null,
   "metadata": {},
   "outputs": [],
   "source": [
    "# Define a custom online learning function for multi-label classification\n",
    "def train_perceptron_online(X, y, n_classes, learning_rate=0.1, n_epochs=5):\n",
    "    \"\"\"Train a multi-label perceptron model in online learning mode.\"\"\"\n",
    "    n_samples, n_features = X.shape\n",
    "    \n",
    "    # Initialize weights and bias for each class\n",
    "    weights = np.zeros((n_classes, n_features))\n",
    "    bias = np.zeros(n_classes)\n",
    "    \n",
    "    # Track metrics during training\n",
    "    epoch_metrics = []\n",
    "    \n",
    "    # Training loop\n",
    "    for epoch in range(n_epochs):\n",
    "        # Shuffle the data\n",
    "        indices = np.random.permutation(n_samples)\n",
    "        X_shuffled = X[indices]\n",
    "        y_shuffled = y[indices]\n",
    "        \n",
    "        correct_predictions = 0\n",
    "        total_predictions = 0\n",
    "        \n",
    "        # Process each sample\n",
    "        for i in range(n_samples):\n",
    "            x_i = X_shuffled[i]\n",
    "            y_i = y_shuffled[i]\n",
    "            \n",
    "            # Make predictions for each class\n",
    "            y_pred = np.zeros(n_classes)\n",
    "            for j in range(n_classes):\n",
    "                # Calculate the activation\n",
    "                activation = np.dot(weights[j], x_i) + bias[j]\n",
    "                # Apply step function\n",
    "                y_pred[j] = 1 if activation >= 0 else 0\n",
    "            \n",
    "            # Update weights and bias for each class\n",
    "            for j in range(n_classes):\n",
    "                # Update only if prediction is wrong\n",
    "                if y_pred[j] != y_i[j]:\n",
    "                    # Update weights and bias\n",
    "                    update = learning_rate * (y_i[j] - y_pred[j])\n",
    "                    weights[j] += update * x_i\n",
    "                    bias[j] += update\n",
    "                else:\n",
    "                    correct_predictions += 1\n",
    "                \n",
    "                total_predictions += 1\n",
    "        \n",
    "        # Calculate accuracy for this epoch\n",
    "        epoch_accuracy = correct_predictions / total_predictions\n",
    "        epoch_metrics.append(epoch_accuracy)\n",
    "        \n",
    "        print(f\"Epoch {epoch+1}/{n_epochs} - Accuracy: {epoch_accuracy:.4f}\")\n",
    "    \n",
    "    return weights, bias, epoch_metrics\n",
    "\n",
    "# Function to make predictions with the trained online perceptron\n",
    "def predict_perceptron_online(X, weights, bias):\n",
    "    \"\"\"Make predictions using the trained online perceptron model.\"\"\"\n",
    "    n_samples = X.shape[0]\n",
    "    n_classes = weights.shape[0]\n",
    "    \n",
    "    # Initialize predictions\n",
    "    y_pred = np.zeros((n_samples, n_classes))\n",
    "    \n",
    "    # Make predictions for each sample\n",
    "    for i in range(n_samples):\n",
    "        x_i = X[i]\n",
    "        \n",
    "        # Make predictions for each class\n",
    "        for j in range(n_classes):\n",
    "            # Calculate the activation\n",
    "            activation = np.dot(weights[j], x_i) + bias[j]\n",
    "            # Apply step function\n",
    "            y_pred[i, j] = 1 if activation >= 0 else 0\n",
    "    \n",
    "    return y_pred"
   ]
  },
  {
   "cell_type": "code",
   "execution_count": null,
   "metadata": {},
   "outputs": [],
   "source": [
    "# Train the perceptron model in online learning mode\n",
    "print(\"Training Perceptron model (online learning)...\")\n",
    "n_classes = y_train.shape[1]\n",
    "weights, bias, epoch_metrics = train_perceptron_online(X_train, y_train, n_classes, learning_rate=0.01, n_epochs=10)\n",
    "print(\"Training completed.\")\n",
    "\n",
    "# Plot training progress\n",
    "plt.figure(figsize=(10, 6))\n",
    "plt.plot(range(1, len(epoch_metrics) + 1), epoch_metrics, marker='o')\n",
    "plt.title('Online Perceptron Training Progress')\n",
    "plt.xlabel('Epoch')\n",
    "plt.ylabel('Accuracy')\n",
    "plt.grid(True, alpha=0.3)\n",
    "plt.show()"
   ]
  },
  {
   "cell_type": "markdown",
   "metadata": {},
   "source": [
    "## Evaluate Online Learning Model on Validation Set"
   ]
  },
  {
   "cell_type": "code",
   "execution_count": null,
   "metadata": {},
   "outputs": [],
   "source": [
    "# Make predictions on validation set using the online perceptron\n",
    "y_val_pred_online = predict_perceptron_online(X_val, weights, bias)\n",
    "\n",
    "# Calculate metrics\n",
    "hamming = hamming_loss(y_val, y_val_pred_online)\n",
    "micro_f1 = f1_score(y_val, y_val_pred_online, average='micro')\n",
    "macro_f1 = f1_score(y_val, y_val_pred_online, average='macro')\n",
    "micro_precision = precision_score(y_val, y_val_pred_online, average='micro')\n",
    "macro_precision = precision_score(y_val, y_val_pred_online, average='macro')\n",
    "micro_recall = recall_score(y_val, y_val_pred_online, average='micro')\n",
    "macro_recall = recall_score(y_val, y_val_pred_online, average='macro')\n",
    "\n",
    "# Print metrics\n",
    "print(f\"Validation Metrics (Online Learning):\")\n",
    "print(f\"Hamming Loss: {hamming:.4f}\")\n",
    "print(f\"Micro-F1 Score: {micro_f1:.4f}\")\n",
    "print(f\"Macro-F1 Score: {macro_f1:.4f}\")\n",
    "print(f\"Micro-Precision: {micro_precision:.4f}\")\n",
    "print(f\"Macro-Precision: {macro_precision:.4f}\")\n",
    "print(f\"Micro-Recall: {micro_recall:.4f}\")\n",
    "print(f\"Macro-Recall: {macro_recall:.4f}\")"
   ]
  },
  {
   "cell_type": "markdown",
   "metadata": {},
   "source": [
    "## Compare Batch and Online Learning"
   ]
  },
  {
   "cell_type": "code",
   "execution_count": null,
   "metadata": {},
   "outputs": [],
   "source": [
    "# Make predictions on test set using both models\n",
    "y_test_pred_batch = perceptron_model.predict(X_test)\n",
    "y_test_pred_online = predict_perceptron_online(X_test, weights, bias)\n",
    "\n",
    "# Calculate metrics for batch learning\n",
    "batch_hamming = hamming_loss(y_test, y_test_pred_batch)\n",
    "batch_micro_f1 = f1_score(y_test, y_test_pred_batch, average='micro')\n",
    "batch_macro_f1 = f1_score(y_test, y_test_pred_batch, average='macro')\n",
    "\n",
    "# Calculate metrics for online learning\n",
    "online_hamming = hamming_loss(y_test, y_test_pred_online)\n",
    "online_micro_f1 = f1_score(y_test, y_test_pred_online, average='micro')\n",
    "online_macro_f1 = f1_score(y_test, y_test_pred_online, average='macro')\n",
    "\n",
    "# Print comparison\n",
    "print(\"Comparison of Batch vs. Online Learning on Test Set:\")\n",
    "print(f\"{'Metric':<15} {'Batch':<10} {'Online':<10}\")\n",
    "print(f\"{'Hamming Loss':<15} {batch_hamming:<10.4f} {online_hamming:<10.4f}\")\n",
    "print(f\"{'Micro-F1':<15} {batch_micro_f1:<10.4f} {online_micro_f1:<10.4f}\")\n",
    "print(f\"{'Macro-F1':<15} {batch_macro_f1:<10.4f} {online_macro_f1:<10.4f}\")\n",
    "\n",
    "# Visualize comparison\n",
    "metrics = ['Hamming Loss', 'Micro-F1', 'Macro-F1']\n",
    "batch_values = [batch_hamming, batch_micro_f1, batch_macro_f1]\n",
    "online_values = [online_hamming, online_micro_f1, online_macro_f1]\n",
    "\n",
    "x = np.arange(len(metrics))\n",
    "width = 0.35\n",
    "\n",
    "fig, ax = plt.subplots(figsize=(10, 6))\n",
    "rects1 = ax.bar(x - width/2, batch_values, width, label='Batch Learning')\n",
    "rects2 = ax.bar(x + width/2, online_values, width, label='Online Learning')\n",
    "\n",
    "ax.set_ylabel('Score')\n",
    "ax.set_title('Comparison of Batch vs. Online Learning')\n",
    "ax.set_xticks(x)\n",
    "ax.set_xticklabels(metrics)\n",
    "ax.legend()\n",
    "\n",
    "# Add value labels\n",
    "def autolabel(rects):\n",
    "    for rect in rects:\n",
    "        height = rect.get_height()\n",
    "        ax.annotate(f'{height:.4f}',\n",
    "                    xy=(rect.get_x() + rect.get_width() / 2, height),\n",
    "                    xytext=(0, 3),  # 3 points vertical offset\n",
    "                    textcoords=\"offset points\",\n",
    "                    ha='center', va='bottom')\n",
    "\n",
    "autolabel(rects1)\n",
    "autolabel(rects2)\n",
    "\n",
    "fig.tight_layout()\n",
    "plt.show()"
   ]
  },
  {
   "cell_type": "markdown",
   "metadata": {},
   "source": [
    "## Detailed Evaluation of the Best Model"
   ]
  },
  {
   "cell_type": "code",
   "execution_count": null,
   "metadata": {},
   "outputs": [],
   "source": [
    "# Choose the best model based on the comparison\n",
    "if batch_micro_f1 >= online_micro_f1:\n",
    "    print(\"Batch learning model performs better. Using batch learning model for detailed evaluation.\")\n",
    "    best_model_pred = y_test_pred_batch\n",
    "    best_model_name = \"Batch Learning\"\n",
    "else:\n",
    "    print(\"Online learning model performs better. Using online learning model for detailed evaluation.\")\n",
    "    best_model_pred = y_test_pred_online\n",
    "    best_model_name = \"Online Learning\"\n",
    "\n",
    "# Calculate per-class metrics\n",
    "class_report = classification_report(y_test, best_model_pred, target_names=defect_classes, output_dict=True)\n",
    "class_metrics = pd.DataFrame(class_report).transpose()\n",
    "class_metrics = class_metrics.drop('accuracy', errors='ignore')\n",
    "\n",
    "# Display per-class metrics\n",
    "print(f\"Per-class metrics for {best_model_name}:\")\n",
    "display(class_metrics)\n",
    "\n",
    "# Visualize per-class F1 scores\n",
    "plt.figure(figsize=(12, 6))\n",
    "sns.barplot(x=class_metrics.index[:-3], y=class_metrics['f1-score'][:-3])\n",
    "plt.title(f'F1 Score per Defect Class ({best_model_name})')\n",
    "plt.xticks(rotation=45)\n",
    "plt.ylim(0, 1)\n",
    "plt.tight_layout()\n",
    "plt.show()"
   ]
  },
  {
   "cell_type": "markdown",
   "metadata": {},
   "source": [
    "## Calculate Precision@k for the Best Model"
   ]
  },
  {
   "cell_type": "code",
   "execution_count": null,
   "metadata": {},
   "outputs": [],
   "source": [
    "# Function to calculate Precision@k\n",
    "def precision_at_k(y_true, y_score, k):\n",
    "    \"\"\"Calculate Precision@k for multi-label classification.\"\"\"\n",
    "    # Get the indices of the top k predictions for each sample\n",
    "    top_k_indices = np.argsort(y_score, axis=1)[:, ::-1][:, :k]\n",
    "    \n",
    "    # Create a matrix of predictions with 1s at the top k positions\n",
    "    y_pred_k = np.zeros_like(y_score)\n",
    "    for i, indices in enumerate(top_k_indices):\n",
    "        y_pred_k[i, indices] = 1\n",
    "    \n",
    "    # Calculate precision\n",
    "    precision = 0\n",
    "    for i in range(len(y_true)):\n",
    "        if np.sum(y_pred_k[i]) > 0:  # Avoid division by zero\n",
    "            precision += np.sum(y_true[i] & y_pred_k[i]) / np.sum(y_pred_k[i])\n",
    "    \n",
    "    return precision / len(y_true)\n",
    "\n",
    "# For batch learning model, we can get probability scores\n",
    "if best_model_name == \"Batch Learning\":\n",
    "    y_test_score = perceptron_model.predict_proba(X_test)\n",
    "    \n",
    "    # Calculate Precision@k for different values of k\n",
    "    k_values = [1, 2, 3]\n",
    "    for k in k_values:\n",
    "        p_at_k = precision_at_k(y_test, y_test_score, k)\n",
    "        print(f\"Precision@{k}: {p_at_k:.4f}\")\n",
    "else:\n",
    "    print(\"Precision@k calculation requires probability scores, which are not available for the custom online learning model.\")"
   ]
  },
  {
   "cell_type": "markdown",
   "metadata": {},
   "source": [
    "## Save Model"
   ]
  },
  {
   "cell_type": "code",
   "execution_count": null,
   "metadata": {},
   "outputs": [],
   "source": [
    "# Save the batch learning model, scaler, and label binarizer\n",
    "model_path = '../models/perceptron_defect.pkl'\n",
    "scaler_path = '../models/perceptron_defect_scaler.pkl'\n",
    "mlb_path = '../models/perceptron_defect_mlb.pkl'\n",
    "\n",
    "joblib.dump(perceptron_model, model_path)\n",
    "joblib.dump(scaler, scaler_path)\n",
    "joblib.dump(mlb, mlb_path)\n",
    "\n",
    "print(f\"Batch learning model saved to {model_path}\")\n",
    "print(f\"Scaler saved to {scaler_path}\")\n",
    "print(f\"MultiLabelBinarizer saved to {mlb_path}\")\n",
    "\n",
    "# Save the online learning model weights and bias\n",
    "online_model_path = '../models/perceptron_online_defect.npz'\n",
    "np.savez(online_model_path, weights=weights, bias=bias)\n",
    "print(f\"Online learning model saved to {online_model_path}\")"
   ]
  }
 ],
 "metadata": {
  "kernelspec": {
   "display_name": "Python 3",
   "language": "python",
   "name": "python3"
  },
  "language_info": {
   "codemirror_mode": {
    "name": "ipython",
    "version": 3
   },
   "file_extension": ".py",
   "mimetype": "text/x-python",
   "name": "python",
   "nbconvert_exporter": "python",
   "pygments_lexer": "ipython3",
   "version": "3.10.13"
  }
 },
 "nbformat": 4,
 "nbformat_minor": 4
}
